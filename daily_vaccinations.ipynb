{
  "nbformat": 4,
  "nbformat_minor": 0,
  "metadata": {
    "colab": {
      "provenance": []
    },
    "kernelspec": {
      "name": "python3",
      "display_name": "Python 3"
    },
    "language_info": {
      "name": "python"
    }
  },
  "cells": [
    {
      "cell_type": "markdown",
      "source": [
        "Code Implementation Task: Implement code to fill the missing dat(impute) in daily_vaccinations column per country with the minimum daily vaccination number of relevant countries.  \n",
        "Note: If a country does not have any valid vaccination number yet, fill it with “0” (zero)."
      ],
      "metadata": {
        "id": "YSzmZidMhhnO"
      }
    },
    {
      "cell_type": "code",
      "execution_count": 5,
      "metadata": {
        "colab": {
          "base_uri": "https://localhost:8080/"
        },
        "id": "-8mwi-NeXSxm",
        "outputId": "98b07aa4-08a5-4b4c-f93a-262a728ac798"
      },
      "outputs": [
        {
          "output_type": "stream",
          "name": "stdout",
          "text": [
            "        country        date  daily_vaccinations  \\\n",
            "0     Argentina  12/29/2020              6483.0   \n",
            "1     Argentina  12/30/2020             15656.0   \n",
            "2     Argentina  12/31/2020             15656.0   \n",
            "3     Argentina    1/1/2021             11070.0   \n",
            "4     Argentina    1/2/2021              8776.0   \n",
            "...         ...         ...                 ...   \n",
            "1497      Wales   1/20/2021             11105.0   \n",
            "1498      Wales   1/21/2021             12318.0   \n",
            "1499      Wales   1/22/2021             15148.0   \n",
            "1500      Wales   1/23/2021             17371.0   \n",
            "1501      Wales   1/24/2021             17063.0   \n",
            "\n",
            "                                 vaccines  \n",
            "0                               Sputnik V  \n",
            "1                               Sputnik V  \n",
            "2                               Sputnik V  \n",
            "3                               Sputnik V  \n",
            "4                               Sputnik V  \n",
            "...                                   ...  \n",
            "1497  Oxford/AstraZeneca, Pfizer/BioNTech  \n",
            "1498  Oxford/AstraZeneca, Pfizer/BioNTech  \n",
            "1499  Oxford/AstraZeneca, Pfizer/BioNTech  \n",
            "1500  Oxford/AstraZeneca, Pfizer/BioNTech  \n",
            "1501  Oxford/AstraZeneca, Pfizer/BioNTech  \n",
            "\n",
            "[1502 rows x 4 columns]\n"
          ]
        }
      ],
      "source": [
        "import pandas as pd\n",
        "import numpy as np\n",
        "\n",
        "df = pd.read_excel('country_vaccination_stats.xlsx')\n",
        "\n",
        "def fill_missing_vaccinations(df):\n",
        "    min_vaccinations = df.groupby('country')['daily_vaccinations'].transform(lambda x: x[x > 0].min())\n",
        "\n",
        "    df['daily_vaccinations'] = df.apply(\n",
        "        lambda row: min_vaccinations[row.name] if pd.isna(row['daily_vaccinations']) else row['daily_vaccinations'], axis=1\n",
        "    )\n",
        "    df['daily_vaccinations'] = df['daily_vaccinations'].fillna(0)\n",
        "\n",
        "    return df\n",
        "\n",
        "df = fill_missing_vaccinations(df)\n",
        "\n",
        "df.to_excel('country_vaccination_stats_updated.xlsx', index=False)\n",
        "\n",
        "print(df)\n"
      ]
    }
  ]
}